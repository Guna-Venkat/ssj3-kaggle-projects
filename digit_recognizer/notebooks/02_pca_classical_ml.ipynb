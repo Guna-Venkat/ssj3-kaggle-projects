{
 "cells": [
  {
   "cell_type": "markdown",
   "metadata": {},
   "source": [
    "## 🔹 Objective:\n",
    "__Apply PCA to reduce dimensionality and train classic ML models (SVC, Random Forest, etc.)__"
   ]
  },
  {
   "cell_type": "markdown",
   "metadata": {},
   "source": [
    "## 🟩 Step 1: Load Preprocessed Data\n",
    "- Load X and y from train_df\n",
    "- Normalize pixel values (again, if not already)"
   ]
  },
  {
   "cell_type": "code",
   "execution_count": 1,
   "metadata": {},
   "outputs": [],
   "source": [
    "import pandas as pd\n",
    "\n",
    "train_df = pd.read_csv('../data/train.csv')\n",
    "test_df = pd.read_csv('../data/test.csv')"
   ]
  },
  {
   "cell_type": "code",
   "execution_count": 2,
   "metadata": {},
   "outputs": [],
   "source": [
    "X = train_df.drop(\"label\", axis=1)\n",
    "y = train_df[\"label\"]\n",
    "X = X / 255.0"
   ]
  },
  {
   "cell_type": "code",
   "execution_count": 3,
   "metadata": {},
   "outputs": [
    {
     "name": "stdout",
     "output_type": "stream",
     "text": [
      "Reduced from 784 to 398 features\n"
     ]
    }
   ],
   "source": [
    "# ✅ 1. Drop Sparse/Dead Pixels\n",
    "# Remove pixel columns where more than 95% of values are 0.\n",
    "\n",
    "zero_mask = (X == 0).sum(axis=0) / len(X) > 0.95\n",
    "X_reduced = X.loc[:, ~zero_mask]  # Keep only informative pixels\n",
    "\n",
    "print(f\"Reduced from {X.shape[1]} to {X_reduced.shape[1]} features\")"
   ]
  },
  {
   "cell_type": "markdown",
   "metadata": {},
   "source": [
    "## 🟨 Step 2: Apply PCA\n",
    "- Use sklearn.decomposition.PCA\n",
    "- Try both:\n",
    "  - n_components = 0.95 (retain 95% variance)\n",
    "  - n_components = 0.98"
   ]
  },
  {
   "cell_type": "code",
   "execution_count": 7,
   "metadata": {},
   "outputs": [
    {
     "name": "stdout",
     "output_type": "stream",
     "text": [
      "🔍 95% Variance → 100 components\n"
     ]
    }
   ],
   "source": [
    "from sklearn.decomposition import PCA\n",
    "\n",
    "pca_95 = PCA(n_components=100, svd_solver='randomized',random_state=42)\n",
    "X_pca_95 = pca_95.fit_transform(X_reduced)\n",
    "\n",
    "print(f\"🔍 95% Variance → {X_pca_95.shape[1]} components\")\n",
    "\n",
    "# Optional: Save transformed data for reuse\n",
    "# np.save('data/preprocessed/X_pca_95.npy', X_pca_95)"
   ]
  },
  {
   "cell_type": "markdown",
   "metadata": {},
   "source": [
    "## 🟧 Step 3: Train Classical ML Models\n",
    "Train with cross-validation and accuracy checks:\n",
    "- Support Vector Classifier (SVC)\n",
    "- Random Forest\n",
    "- k-Nearest Neighbors"
   ]
  },
  {
   "cell_type": "code",
   "execution_count": 8,
   "metadata": {},
   "outputs": [],
   "source": [
    "from sklearn.model_selection import train_test_split\n",
    "\n",
    "X_train, X_val, y_train, y_val = train_test_split(X_pca_95, y, test_size=0.2, random_state=42, stratify=y)"
   ]
  },
  {
   "cell_type": "code",
   "execution_count": null,
   "metadata": {},
   "outputs": [
    {
     "name": "stdout",
     "output_type": "stream",
     "text": [
      "Fitting 3 folds for each of 12 candidates, totalling 36 fits\n"
     ]
    }
   ],
   "source": [
    "from sklearn.model_selection import GridSearchCV\n",
    "from sklearn.svm import SVC\n",
    "\n",
    "svc = SVC()\n",
    "\n",
    "svc_params = {\n",
    "    'C': [1, 10, 100],\n",
    "    'kernel': ['rbf', 'poly'],\n",
    "    'gamma': ['scale', 'auto']\n",
    "}\n",
    "\n",
    "grid_svc = GridSearchCV(svc, svc_params, cv=3, scoring='accuracy', verbose=2, n_jobs=-1)\n",
    "grid_svc.fit(X_train, y_train)\n",
    "\n",
    "print(\"🔍 Best SVC Params:\", grid_svc.best_params_)\n",
    "print(\"✅ SVC Best CV Accuracy:\", grid_svc.best_score_)\n",
    "\n",
    "# Evaluate on validation set\n",
    "svc_val_preds = grid_svc.predict(X_val)\n",
    "from sklearn.metrics import accuracy_score\n",
    "print(\"🎯 SVC Validation Accuracy:\", accuracy_score(y_val, svc_val_preds))"
   ]
  },
  {
   "cell_type": "code",
   "execution_count": null,
   "metadata": {},
   "outputs": [],
   "source": [
    "from sklearn.ensemble import RandomForestClassifier\n",
    "\n",
    "rf = RandomForestClassifier(random_state=42)\n",
    "\n",
    "rf_params = {\n",
    "    'n_estimators': [100, 200],\n",
    "    'max_depth': [10, 20, None],\n",
    "    'min_samples_split': [2, 5]\n",
    "}\n",
    "\n",
    "grid_rf = GridSearchCV(rf, rf_params, cv=3, scoring='accuracy', verbose=2, n_jobs=-1)\n",
    "grid_rf.fit(X_train, y_train)\n",
    "\n",
    "print(\"🔍 Best RF Params:\", grid_rf.best_params_)\n",
    "print(\"✅ RF Best CV Accuracy:\", grid_rf.best_score_)\n",
    "\n",
    "# Evaluate on validation\n",
    "rf_val_preds = grid_rf.predict(X_val)\n",
    "print(\"🎯 RF Validation Accuracy:\", accuracy_score(y_val, rf_val_preds))"
   ]
  },
  {
   "cell_type": "code",
   "execution_count": null,
   "metadata": {},
   "outputs": [],
   "source": [
    "from sklearn.metrics import confusion_matrix, classification_report\n",
    "print(classification_report(y_val, svc_val_preds))\n",
    "print('-------------------------------------------------------------')\n",
    "print(classification_report(y_val, rf_val_preds))"
   ]
  },
  {
   "cell_type": "code",
   "execution_count": null,
   "metadata": {},
   "outputs": [],
   "source": []
  }
 ],
 "metadata": {
  "kernelspec": {
   "display_name": "base",
   "language": "python",
   "name": "python3"
  },
  "language_info": {
   "codemirror_mode": {
    "name": "ipython",
    "version": 3
   },
   "file_extension": ".py",
   "mimetype": "text/x-python",
   "name": "python",
   "nbconvert_exporter": "python",
   "pygments_lexer": "ipython3",
   "version": "3.11.4"
  }
 },
 "nbformat": 4,
 "nbformat_minor": 2
}
